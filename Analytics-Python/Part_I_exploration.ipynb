{
 "cells": [
  {
   "cell_type": "markdown",
   "metadata": {},
   "source": [
    "# Part I - Dataset Exploration: Loan Data from Prosper\n",
    "## by Duc Truong\n",
    "\n",
    "## Introduction\n",
    "> Introduce the dataset: The Prosper Loan dataset contains 113,937 loans with 81 variables on each loan, including loan amount, borrower rate (or interest rate), current loan status, borrower income, and many others. There is a data dictionary that explains all variables in this dataset.\n",
    "\n",
    "\n",
    "## Preliminary Wrangling\n"
   ]
  },
  {
   "cell_type": "code",
   "execution_count": 1,
   "metadata": {},
   "outputs": [
    {
     "name": "stdout",
     "output_type": "stream",
     "text": [
      "Requirement already up-to-date: seaborn in /opt/conda/lib/python3.6/site-packages (0.11.2)\n",
      "Requirement already satisfied, skipping upgrade: matplotlib>=2.2 in /opt/conda/lib/python3.6/site-packages (from seaborn) (3.3.4)\n",
      "Requirement already satisfied, skipping upgrade: numpy>=1.15 in /opt/conda/lib/python3.6/site-packages (from seaborn) (1.19.5)\n",
      "Requirement already satisfied, skipping upgrade: pandas>=0.23 in /opt/conda/lib/python3.6/site-packages (from seaborn) (0.23.3)\n",
      "Requirement already satisfied, skipping upgrade: scipy>=1.0 in /opt/conda/lib/python3.6/site-packages (from seaborn) (1.2.1)\n",
      "Requirement already satisfied, skipping upgrade: kiwisolver>=1.0.1 in /opt/conda/lib/python3.6/site-packages (from matplotlib>=2.2->seaborn) (1.3.1)\n",
      "Requirement already satisfied, skipping upgrade: cycler>=0.10 in /opt/conda/lib/python3.6/site-packages/cycler-0.10.0-py3.6.egg (from matplotlib>=2.2->seaborn) (0.10.0)\n",
      "Requirement already satisfied, skipping upgrade: pillow>=6.2.0 in /opt/conda/lib/python3.6/site-packages (from matplotlib>=2.2->seaborn) (8.4.0)\n",
      "Requirement already satisfied, skipping upgrade: python-dateutil>=2.1 in /opt/conda/lib/python3.6/site-packages (from matplotlib>=2.2->seaborn) (2.6.1)\n",
      "Requirement already satisfied, skipping upgrade: pyparsing!=2.0.4,!=2.1.2,!=2.1.6,>=2.0.3 in /opt/conda/lib/python3.6/site-packages (from matplotlib>=2.2->seaborn) (2.2.0)\n",
      "Requirement already satisfied, skipping upgrade: pytz>=2011k in /opt/conda/lib/python3.6/site-packages (from pandas>=0.23->seaborn) (2017.3)\n",
      "Requirement already satisfied, skipping upgrade: six in /opt/conda/lib/python3.6/site-packages (from cycler>=0.10->matplotlib>=2.2->seaborn) (1.11.0)\n"
     ]
    }
   ],
   "source": [
    "# Import all packages needed\n",
    "import numpy as np\n",
    "import pandas as pd\n",
    "import matplotlib.pyplot as plt\n",
    "! pip install -U seaborn\n",
    "import seaborn as sb \n",
    "%matplotlib inline"
   ]
  },
  {
   "cell_type": "markdown",
   "metadata": {},
   "source": [
    "> Load in your dataset and describe its properties through the questions below. Try and motivate your exploration goals through this section."
   ]
  },
  {
   "cell_type": "code",
   "execution_count": 2,
   "metadata": {},
   "outputs": [
    {
     "name": "stdout",
     "output_type": "stream",
     "text": [
      "<class 'pandas.core.frame.DataFrame'>\n",
      "RangeIndex: 113937 entries, 0 to 113936\n",
      "Data columns (total 81 columns):\n",
      "ListingKey                             113937 non-null object\n",
      "ListingNumber                          113937 non-null int64\n",
      "ListingCreationDate                    113937 non-null object\n",
      "CreditGrade                            28953 non-null object\n",
      "Term                                   113937 non-null int64\n",
      "LoanStatus                             113937 non-null object\n",
      "ClosedDate                             55089 non-null object\n",
      "BorrowerAPR                            113912 non-null float64\n",
      "BorrowerRate                           113937 non-null float64\n",
      "LenderYield                            113937 non-null float64\n",
      "EstimatedEffectiveYield                84853 non-null float64\n",
      "EstimatedLoss                          84853 non-null float64\n",
      "EstimatedReturn                        84853 non-null float64\n",
      "ProsperRating (numeric)                84853 non-null float64\n",
      "ProsperRating (Alpha)                  84853 non-null object\n",
      "ProsperScore                           84853 non-null float64\n",
      "ListingCategory (numeric)              113937 non-null int64\n",
      "BorrowerState                          108422 non-null object\n",
      "Occupation                             110349 non-null object\n",
      "EmploymentStatus                       111682 non-null object\n",
      "EmploymentStatusDuration               106312 non-null float64\n",
      "IsBorrowerHomeowner                    113937 non-null bool\n",
      "CurrentlyInGroup                       113937 non-null bool\n",
      "GroupKey                               13341 non-null object\n",
      "DateCreditPulled                       113937 non-null object\n",
      "CreditScoreRangeLower                  113346 non-null float64\n",
      "CreditScoreRangeUpper                  113346 non-null float64\n",
      "FirstRecordedCreditLine                113240 non-null object\n",
      "CurrentCreditLines                     106333 non-null float64\n",
      "OpenCreditLines                        106333 non-null float64\n",
      "TotalCreditLinespast7years             113240 non-null float64\n",
      "OpenRevolvingAccounts                  113937 non-null int64\n",
      "OpenRevolvingMonthlyPayment            113937 non-null float64\n",
      "InquiriesLast6Months                   113240 non-null float64\n",
      "TotalInquiries                         112778 non-null float64\n",
      "CurrentDelinquencies                   113240 non-null float64\n",
      "AmountDelinquent                       106315 non-null float64\n",
      "DelinquenciesLast7Years                112947 non-null float64\n",
      "PublicRecordsLast10Years               113240 non-null float64\n",
      "PublicRecordsLast12Months              106333 non-null float64\n",
      "RevolvingCreditBalance                 106333 non-null float64\n",
      "BankcardUtilization                    106333 non-null float64\n",
      "AvailableBankcardCredit                106393 non-null float64\n",
      "TotalTrades                            106393 non-null float64\n",
      "TradesNeverDelinquent (percentage)     106393 non-null float64\n",
      "TradesOpenedLast6Months                106393 non-null float64\n",
      "DebtToIncomeRatio                      105383 non-null float64\n",
      "IncomeRange                            113937 non-null object\n",
      "IncomeVerifiable                       113937 non-null bool\n",
      "StatedMonthlyIncome                    113937 non-null float64\n",
      "LoanKey                                113937 non-null object\n",
      "TotalProsperLoans                      22085 non-null float64\n",
      "TotalProsperPaymentsBilled             22085 non-null float64\n",
      "OnTimeProsperPayments                  22085 non-null float64\n",
      "ProsperPaymentsLessThanOneMonthLate    22085 non-null float64\n",
      "ProsperPaymentsOneMonthPlusLate        22085 non-null float64\n",
      "ProsperPrincipalBorrowed               22085 non-null float64\n",
      "ProsperPrincipalOutstanding            22085 non-null float64\n",
      "ScorexChangeAtTimeOfListing            18928 non-null float64\n",
      "LoanCurrentDaysDelinquent              113937 non-null int64\n",
      "LoanFirstDefaultedCycleNumber          16952 non-null float64\n",
      "LoanMonthsSinceOrigination             113937 non-null int64\n",
      "LoanNumber                             113937 non-null int64\n",
      "LoanOriginalAmount                     113937 non-null int64\n",
      "LoanOriginationDate                    113937 non-null object\n",
      "LoanOriginationQuarter                 113937 non-null object\n",
      "MemberKey                              113937 non-null object\n",
      "MonthlyLoanPayment                     113937 non-null float64\n",
      "LP_CustomerPayments                    113937 non-null float64\n",
      "LP_CustomerPrincipalPayments           113937 non-null float64\n",
      "LP_InterestandFees                     113937 non-null float64\n",
      "LP_ServiceFees                         113937 non-null float64\n",
      "LP_CollectionFees                      113937 non-null float64\n",
      "LP_GrossPrincipalLoss                  113937 non-null float64\n",
      "LP_NetPrincipalLoss                    113937 non-null float64\n",
      "LP_NonPrincipalRecoverypayments        113937 non-null float64\n",
      "PercentFunded                          113937 non-null float64\n",
      "Recommendations                        113937 non-null int64\n",
      "InvestmentFromFriendsCount             113937 non-null int64\n",
      "InvestmentFromFriendsAmount            113937 non-null float64\n",
      "Investors                              113937 non-null int64\n",
      "dtypes: bool(3), float64(50), int64(11), object(17)\n",
      "memory usage: 68.1+ MB\n"
     ]
    }
   ],
   "source": [
    "# Load the dataset and check all columns\n",
    "df = pd.read_csv('prosperLoanData.csv')\n",
    "df.info()"
   ]
  },
  {
   "cell_type": "code",
   "execution_count": 3,
   "metadata": {},
   "outputs": [],
   "source": [
    "# Keep some necessary columns\n",
    "main_columns =  [\n",
    "    'Term', 'LoanStatus', 'BorrowerRate', 'ProsperRating (Alpha)', 'ListingCategory (numeric)', 'EmploymentStatus',\n",
    "    'DelinquenciesLast7Years', 'StatedMonthlyIncome', 'TotalProsperLoans', 'LoanOriginalAmount',\n",
    "    'LoanOriginationDate', 'Recommendations', 'Investors'\n",
    "]"
   ]
  },
  {
   "cell_type": "code",
   "execution_count": 4,
   "metadata": {},
   "outputs": [
    {
     "data": {
      "text/html": [
       "<div>\n",
       "<style scoped>\n",
       "    .dataframe tbody tr th:only-of-type {\n",
       "        vertical-align: middle;\n",
       "    }\n",
       "\n",
       "    .dataframe tbody tr th {\n",
       "        vertical-align: top;\n",
       "    }\n",
       "\n",
       "    .dataframe thead th {\n",
       "        text-align: right;\n",
       "    }\n",
       "</style>\n",
       "<table border=\"1\" class=\"dataframe\">\n",
       "  <thead>\n",
       "    <tr style=\"text-align: right;\">\n",
       "      <th></th>\n",
       "      <th>Term</th>\n",
       "      <th>LoanStatus</th>\n",
       "      <th>BorrowerRate</th>\n",
       "      <th>ProsperRating (Alpha)</th>\n",
       "      <th>ListingCategory (numeric)</th>\n",
       "      <th>EmploymentStatus</th>\n",
       "      <th>DelinquenciesLast7Years</th>\n",
       "      <th>StatedMonthlyIncome</th>\n",
       "      <th>TotalProsperLoans</th>\n",
       "      <th>LoanOriginalAmount</th>\n",
       "      <th>LoanOriginationDate</th>\n",
       "      <th>Recommendations</th>\n",
       "      <th>Investors</th>\n",
       "    </tr>\n",
       "  </thead>\n",
       "  <tbody>\n",
       "    <tr>\n",
       "      <th>0</th>\n",
       "      <td>36</td>\n",
       "      <td>Completed</td>\n",
       "      <td>0.1580</td>\n",
       "      <td>NaN</td>\n",
       "      <td>0</td>\n",
       "      <td>Self-employed</td>\n",
       "      <td>4.0</td>\n",
       "      <td>3083.333333</td>\n",
       "      <td>NaN</td>\n",
       "      <td>9425</td>\n",
       "      <td>2007-09-12 00:00:00</td>\n",
       "      <td>0</td>\n",
       "      <td>258</td>\n",
       "    </tr>\n",
       "    <tr>\n",
       "      <th>1</th>\n",
       "      <td>36</td>\n",
       "      <td>Current</td>\n",
       "      <td>0.0920</td>\n",
       "      <td>A</td>\n",
       "      <td>2</td>\n",
       "      <td>Employed</td>\n",
       "      <td>0.0</td>\n",
       "      <td>6125.000000</td>\n",
       "      <td>NaN</td>\n",
       "      <td>10000</td>\n",
       "      <td>2014-03-03 00:00:00</td>\n",
       "      <td>0</td>\n",
       "      <td>1</td>\n",
       "    </tr>\n",
       "    <tr>\n",
       "      <th>2</th>\n",
       "      <td>36</td>\n",
       "      <td>Completed</td>\n",
       "      <td>0.2750</td>\n",
       "      <td>NaN</td>\n",
       "      <td>0</td>\n",
       "      <td>Not available</td>\n",
       "      <td>0.0</td>\n",
       "      <td>2083.333333</td>\n",
       "      <td>NaN</td>\n",
       "      <td>3001</td>\n",
       "      <td>2007-01-17 00:00:00</td>\n",
       "      <td>0</td>\n",
       "      <td>41</td>\n",
       "    </tr>\n",
       "    <tr>\n",
       "      <th>3</th>\n",
       "      <td>36</td>\n",
       "      <td>Current</td>\n",
       "      <td>0.0974</td>\n",
       "      <td>A</td>\n",
       "      <td>16</td>\n",
       "      <td>Employed</td>\n",
       "      <td>14.0</td>\n",
       "      <td>2875.000000</td>\n",
       "      <td>NaN</td>\n",
       "      <td>10000</td>\n",
       "      <td>2012-11-01 00:00:00</td>\n",
       "      <td>0</td>\n",
       "      <td>158</td>\n",
       "    </tr>\n",
       "    <tr>\n",
       "      <th>4</th>\n",
       "      <td>36</td>\n",
       "      <td>Current</td>\n",
       "      <td>0.2085</td>\n",
       "      <td>D</td>\n",
       "      <td>2</td>\n",
       "      <td>Employed</td>\n",
       "      <td>0.0</td>\n",
       "      <td>9583.333333</td>\n",
       "      <td>1.0</td>\n",
       "      <td>15000</td>\n",
       "      <td>2013-09-20 00:00:00</td>\n",
       "      <td>0</td>\n",
       "      <td>20</td>\n",
       "    </tr>\n",
       "  </tbody>\n",
       "</table>\n",
       "</div>"
      ],
      "text/plain": [
       "   Term LoanStatus  BorrowerRate ProsperRating (Alpha)  \\\n",
       "0    36  Completed        0.1580                   NaN   \n",
       "1    36    Current        0.0920                     A   \n",
       "2    36  Completed        0.2750                   NaN   \n",
       "3    36    Current        0.0974                     A   \n",
       "4    36    Current        0.2085                     D   \n",
       "\n",
       "   ListingCategory (numeric) EmploymentStatus  DelinquenciesLast7Years  \\\n",
       "0                          0    Self-employed                      4.0   \n",
       "1                          2         Employed                      0.0   \n",
       "2                          0    Not available                      0.0   \n",
       "3                         16         Employed                     14.0   \n",
       "4                          2         Employed                      0.0   \n",
       "\n",
       "   StatedMonthlyIncome  TotalProsperLoans  LoanOriginalAmount  \\\n",
       "0          3083.333333                NaN                9425   \n",
       "1          6125.000000                NaN               10000   \n",
       "2          2083.333333                NaN                3001   \n",
       "3          2875.000000                NaN               10000   \n",
       "4          9583.333333                1.0               15000   \n",
       "\n",
       "   LoanOriginationDate  Recommendations  Investors  \n",
       "0  2007-09-12 00:00:00                0        258  \n",
       "1  2014-03-03 00:00:00                0          1  \n",
       "2  2007-01-17 00:00:00                0         41  \n",
       "3  2012-11-01 00:00:00                0        158  \n",
       "4  2013-09-20 00:00:00                0         20  "
      ]
     },
     "execution_count": 4,
     "metadata": {},
     "output_type": "execute_result"
    }
   ],
   "source": [
    "# Create table with necessary columns and display\n",
    "main_table = df[main_columns]\n",
    "main_table.head()"
   ]
  },
  {
   "cell_type": "code",
   "execution_count": 5,
   "metadata": {},
   "outputs": [
    {
     "name": "stdout",
     "output_type": "stream",
     "text": [
      "<class 'pandas.core.frame.DataFrame'>\n",
      "RangeIndex: 113937 entries, 0 to 113936\n",
      "Data columns (total 13 columns):\n",
      "Term                         113937 non-null int64\n",
      "LoanStatus                   113937 non-null object\n",
      "BorrowerRate                 113937 non-null float64\n",
      "ProsperRating (Alpha)        84853 non-null object\n",
      "ListingCategory (numeric)    113937 non-null int64\n",
      "EmploymentStatus             111682 non-null object\n",
      "DelinquenciesLast7Years      112947 non-null float64\n",
      "StatedMonthlyIncome          113937 non-null float64\n",
      "TotalProsperLoans            22085 non-null float64\n",
      "LoanOriginalAmount           113937 non-null int64\n",
      "LoanOriginationDate          113937 non-null object\n",
      "Recommendations              113937 non-null int64\n",
      "Investors                    113937 non-null int64\n",
      "dtypes: float64(4), int64(5), object(4)\n",
      "memory usage: 11.3+ MB\n"
     ]
    }
   ],
   "source": [
    "main_table.info()"
   ]
  },
  {
   "cell_type": "code",
   "execution_count": 6,
   "metadata": {},
   "outputs": [],
   "source": [
    "# Prosper Rating is applied for loans after July 2009, so rows with missing value in ProsperRating column are dropped\n",
    "main_table = main_table.dropna(subset=['ProsperRating (Alpha)']).reset_index()"
   ]
  },
  {
   "cell_type": "code",
   "execution_count": 7,
   "metadata": {},
   "outputs": [],
   "source": [
    "# Convert 'LoanOriginationDate' into datetime datatype\n",
    "main_table['LoanOrginationDate'] = pd.to_datetime(main_table['LoanOriginationDate'])"
   ]
  },
  {
   "cell_type": "code",
   "execution_count": 8,
   "metadata": {},
   "outputs": [],
   "source": [
    "# TotalProsperLoans column has missing values (NaN), so replace them with 0\n",
    "main_table['TotalProsperLoans'] = main_table['TotalProsperLoans'].fillna(0)"
   ]
  },
  {
   "cell_type": "code",
   "execution_count": 9,
   "metadata": {},
   "outputs": [
    {
     "name": "stdout",
     "output_type": "stream",
     "text": [
      "<class 'pandas.core.frame.DataFrame'>\n",
      "RangeIndex: 84853 entries, 0 to 84852\n",
      "Data columns (total 15 columns):\n",
      "index                        84853 non-null int64\n",
      "Term                         84853 non-null int64\n",
      "LoanStatus                   84853 non-null object\n",
      "BorrowerRate                 84853 non-null float64\n",
      "ProsperRating (Alpha)        84853 non-null object\n",
      "ListingCategory (numeric)    84853 non-null int64\n",
      "EmploymentStatus             84853 non-null object\n",
      "DelinquenciesLast7Years      84853 non-null float64\n",
      "StatedMonthlyIncome          84853 non-null float64\n",
      "TotalProsperLoans            84853 non-null float64\n",
      "LoanOriginalAmount           84853 non-null int64\n",
      "LoanOriginationDate          84853 non-null object\n",
      "Recommendations              84853 non-null int64\n",
      "Investors                    84853 non-null int64\n",
      "LoanOrginationDate           84853 non-null datetime64[ns]\n",
      "dtypes: datetime64[ns](1), float64(4), int64(6), object(4)\n",
      "memory usage: 9.7+ MB\n"
     ]
    }
   ],
   "source": [
    "# Summary info of new table\n",
    "main_table.info()"
   ]
  },
  {
   "cell_type": "code",
   "execution_count": 10,
   "metadata": {},
   "outputs": [
    {
     "data": {
      "text/html": [
       "<div>\n",
       "<style scoped>\n",
       "    .dataframe tbody tr th:only-of-type {\n",
       "        vertical-align: middle;\n",
       "    }\n",
       "\n",
       "    .dataframe tbody tr th {\n",
       "        vertical-align: top;\n",
       "    }\n",
       "\n",
       "    .dataframe thead th {\n",
       "        text-align: right;\n",
       "    }\n",
       "</style>\n",
       "<table border=\"1\" class=\"dataframe\">\n",
       "  <thead>\n",
       "    <tr style=\"text-align: right;\">\n",
       "      <th></th>\n",
       "      <th>index</th>\n",
       "      <th>Term</th>\n",
       "      <th>LoanStatus</th>\n",
       "      <th>BorrowerRate</th>\n",
       "      <th>ProsperRating (Alpha)</th>\n",
       "      <th>ListingCategory (numeric)</th>\n",
       "      <th>EmploymentStatus</th>\n",
       "      <th>DelinquenciesLast7Years</th>\n",
       "      <th>StatedMonthlyIncome</th>\n",
       "      <th>TotalProsperLoans</th>\n",
       "      <th>LoanOriginalAmount</th>\n",
       "      <th>LoanOriginationDate</th>\n",
       "      <th>Recommendations</th>\n",
       "      <th>Investors</th>\n",
       "      <th>LoanOrginationDate</th>\n",
       "    </tr>\n",
       "  </thead>\n",
       "  <tbody>\n",
       "    <tr>\n",
       "      <th>0</th>\n",
       "      <td>1</td>\n",
       "      <td>36</td>\n",
       "      <td>Current</td>\n",
       "      <td>0.0920</td>\n",
       "      <td>A</td>\n",
       "      <td>2</td>\n",
       "      <td>Employed</td>\n",
       "      <td>0.0</td>\n",
       "      <td>6125.000000</td>\n",
       "      <td>0.0</td>\n",
       "      <td>10000</td>\n",
       "      <td>2014-03-03 00:00:00</td>\n",
       "      <td>0</td>\n",
       "      <td>1</td>\n",
       "      <td>2014-03-03</td>\n",
       "    </tr>\n",
       "    <tr>\n",
       "      <th>1</th>\n",
       "      <td>3</td>\n",
       "      <td>36</td>\n",
       "      <td>Current</td>\n",
       "      <td>0.0974</td>\n",
       "      <td>A</td>\n",
       "      <td>16</td>\n",
       "      <td>Employed</td>\n",
       "      <td>14.0</td>\n",
       "      <td>2875.000000</td>\n",
       "      <td>0.0</td>\n",
       "      <td>10000</td>\n",
       "      <td>2012-11-01 00:00:00</td>\n",
       "      <td>0</td>\n",
       "      <td>158</td>\n",
       "      <td>2012-11-01</td>\n",
       "    </tr>\n",
       "    <tr>\n",
       "      <th>2</th>\n",
       "      <td>4</td>\n",
       "      <td>36</td>\n",
       "      <td>Current</td>\n",
       "      <td>0.2085</td>\n",
       "      <td>D</td>\n",
       "      <td>2</td>\n",
       "      <td>Employed</td>\n",
       "      <td>0.0</td>\n",
       "      <td>9583.333333</td>\n",
       "      <td>1.0</td>\n",
       "      <td>15000</td>\n",
       "      <td>2013-09-20 00:00:00</td>\n",
       "      <td>0</td>\n",
       "      <td>20</td>\n",
       "      <td>2013-09-20</td>\n",
       "    </tr>\n",
       "    <tr>\n",
       "      <th>3</th>\n",
       "      <td>5</td>\n",
       "      <td>60</td>\n",
       "      <td>Current</td>\n",
       "      <td>0.1314</td>\n",
       "      <td>B</td>\n",
       "      <td>1</td>\n",
       "      <td>Employed</td>\n",
       "      <td>0.0</td>\n",
       "      <td>8333.333333</td>\n",
       "      <td>0.0</td>\n",
       "      <td>15000</td>\n",
       "      <td>2013-12-24 00:00:00</td>\n",
       "      <td>0</td>\n",
       "      <td>1</td>\n",
       "      <td>2013-12-24</td>\n",
       "    </tr>\n",
       "    <tr>\n",
       "      <th>4</th>\n",
       "      <td>6</td>\n",
       "      <td>36</td>\n",
       "      <td>Current</td>\n",
       "      <td>0.2712</td>\n",
       "      <td>E</td>\n",
       "      <td>1</td>\n",
       "      <td>Employed</td>\n",
       "      <td>0.0</td>\n",
       "      <td>2083.333333</td>\n",
       "      <td>0.0</td>\n",
       "      <td>3000</td>\n",
       "      <td>2013-04-18 00:00:00</td>\n",
       "      <td>0</td>\n",
       "      <td>1</td>\n",
       "      <td>2013-04-18</td>\n",
       "    </tr>\n",
       "  </tbody>\n",
       "</table>\n",
       "</div>"
      ],
      "text/plain": [
       "   index  Term LoanStatus  BorrowerRate ProsperRating (Alpha)  \\\n",
       "0      1    36    Current        0.0920                     A   \n",
       "1      3    36    Current        0.0974                     A   \n",
       "2      4    36    Current        0.2085                     D   \n",
       "3      5    60    Current        0.1314                     B   \n",
       "4      6    36    Current        0.2712                     E   \n",
       "\n",
       "   ListingCategory (numeric) EmploymentStatus  DelinquenciesLast7Years  \\\n",
       "0                          2         Employed                      0.0   \n",
       "1                         16         Employed                     14.0   \n",
       "2                          2         Employed                      0.0   \n",
       "3                          1         Employed                      0.0   \n",
       "4                          1         Employed                      0.0   \n",
       "\n",
       "   StatedMonthlyIncome  TotalProsperLoans  LoanOriginalAmount  \\\n",
       "0          6125.000000                0.0               10000   \n",
       "1          2875.000000                0.0               10000   \n",
       "2          9583.333333                1.0               15000   \n",
       "3          8333.333333                0.0               15000   \n",
       "4          2083.333333                0.0                3000   \n",
       "\n",
       "   LoanOriginationDate  Recommendations  Investors LoanOrginationDate  \n",
       "0  2014-03-03 00:00:00                0          1         2014-03-03  \n",
       "1  2012-11-01 00:00:00                0        158         2012-11-01  \n",
       "2  2013-09-20 00:00:00                0         20         2013-09-20  \n",
       "3  2013-12-24 00:00:00                0          1         2013-12-24  \n",
       "4  2013-04-18 00:00:00                0          1         2013-04-18  "
      ]
     },
     "execution_count": 10,
     "metadata": {},
     "output_type": "execute_result"
    }
   ],
   "source": [
    "# Some rows of new table\n",
    "main_table.head()"
   ]
  },
  {
   "cell_type": "markdown",
   "metadata": {},
   "source": [
    "### What is the structure of your dataset?\n",
    "\n",
    "> This dataset has 81 columns. Therefore, I will drop unneeded columns to focus on the main purpose of this analysis.\n",
    "\n",
    "### What is/are the main feature(s) of interest in your dataset?\n",
    "\n",
    "> (1) Discover which factors can be analyzed to predict borrower's default chance (default is when borrowers cannot pay the loan). And (2) which factors affect Prosper credit rating.\n",
    "\n",
    "### What features in the dataset do you think will help support your investigation into your feature(s) of interest?\n",
    "\n",
    "> (1) The Prosper rating may affect the most to predict borrower's default chance, coming next are loan amount and listing category. (2) For Prosper rating, stated monthly income and employment status are the factors that affect mainly."
   ]
  },
  {
   "cell_type": "markdown",
   "metadata": {},
   "source": [
    "## Univariate Exploration\n",
    "\n",
    "> In this section, investigate distributions of individual variables. If\n",
    "you see unusual points or outliers, take a deeper look to clean things up\n",
    "and prepare yourself to look at relationships between variables.\n",
    "\n",
    "\n",
    "> **Rubric Tip**: The project (Parts I alone) should have at least 15 visualizations distributed over univariate, bivariate, and multivariate plots to explore many relationships in the data set.  Use reasoning to justify the flow of the exploration.\n",
    "\n",
    "\n",
    "\n",
    ">**Rubric Tip**: Use the \"Question-Visualization-Observations\" framework  throughout the exploration. This framework involves **asking a question from the data, creating a visualization to find answers, and then recording observations after each visualisation.** \n"
   ]
  },
  {
   "cell_type": "code",
   "execution_count": 11,
   "metadata": {},
   "outputs": [
    {
     "data": {
      "text/plain": [
       "<AxesSubplot:xlabel='LoanStatus', ylabel='count'>"
      ]
     },
     "execution_count": 11,
     "metadata": {},
     "output_type": "execute_result"
    },
    {
     "data": {
      "image/png": "[encoded data removed]",
      "text/plain": [
       "<Figure size 432x288 with 1 Axes>"
      ]
     },
     "metadata": {
      "needs_background": "light"
     },
     "output_type": "display_data"
    }
   ],
   "source": [
    "# Visualization 1: Check the distribution of values in LoanStatus column\n",
    "base_color = sb.color_palette()[0]\n",
    "plt.xticks(rotation = 90)\n",
    "sb.countplot(data = main_table, x = 'LoanStatus', color = base_color)"
   ]
  },
  {
   "cell_type": "markdown",
   "metadata": {},
   "source": [
    "Observation #1: Most of the loans in dataset are current loans. Loans that are past due are divided into smaller group based on their duration. The defaulted loan (my feature of interest in this dataset) only takes a small proportion of all types of loan status."
   ]
  },
  {
   "cell_type": "code",
   "execution_count": 12,
   "metadata": {},
   "outputs": [
    {
     "data": {
      "text/plain": [
       "<AxesSubplot:xlabel='EmploymentStatus', ylabel='count'>"
      ]
     },
     "execution_count": 12,
     "metadata": {},
     "output_type": "execute_result"
    },
    {
     "data": {
      "image/png": "[encoded data removed]",
      "text/plain": [
       "<Figure size 432x288 with 1 Axes>"
      ]
     },
     "metadata": {
      "needs_background": "light"
     },
     "output_type": "display_data"
    }
   ],
   "source": [
    "# Visualization 2: Check the distribution of values in EmploymentStatus column\n",
    "plt.xticks (rotation = 90)\n",
    "sb.countplot(data = main_table, x = 'EmploymentStatus', color = base_color)"
   ]
  },
  {
   "cell_type": "markdown",
   "metadata": {},
   "source": [
    "Observation #2: A vast majority of borrowers are Employed. Coming next are Full-time and Self-employed."
   ]
  },
  {
   "cell_type": "code",
   "execution_count": 13,
   "metadata": {},
   "outputs": [
    {
     "data": {
      "image/png": "[encoded data removed]",
      "text/plain": [
       "<Figure size 432x288 with 1 Axes>"
      ]
     },
     "metadata": {
      "needs_background": "light"
     },
     "output_type": "display_data"
    }
   ],
   "source": [
    "# Visualization 3: Check the distribution of values in StatedMonthlyIncome column\n",
    "plt.hist(data = main_table, x = 'StatedMonthlyIncome', bins = 1000);"
   ]
  },
  {
   "cell_type": "markdown",
   "metadata": {},
   "source": [
    "Observation #3: The distribution of StatedMonthlyIncome has skew to the right problem."
   ]
  },
  {
   "cell_type": "code",
   "execution_count": 14,
   "metadata": {},
   "outputs": [
    {
     "data": {
      "text/plain": [
       "245"
      ]
     },
     "execution_count": 14,
     "metadata": {},
     "output_type": "execute_result"
    }
   ],
   "source": [
    "# Calculate mean and standard deviation. Apply Three-Sigma Limit formula for statistical control to set a limit value\n",
    "income_std = main_table['StatedMonthlyIncome'].std()\n",
    "income_mean = main_table['StatedMonthlyIncome'].mean()\n",
    "limit = income_mean + income_std * 3\n",
    "# Count the number of values that exceed the limit. Those outliers make the histogram skewed to the right\n",
    "len(main_table[main_table['StatedMonthlyIncome'] >= limit])"
   ]
  },
  {
   "cell_type": "code",
   "execution_count": 15,
   "metadata": {},
   "outputs": [
    {
     "data": {
      "text/plain": [
       "(0.0, 30651.006023351034)"
      ]
     },
     "execution_count": 15,
     "metadata": {},
     "output_type": "execute_result"
    },
    {
     "data": {
      "image/png": "[encoded data removed]",
      "text/plain": [
       "<Figure size 432x288 with 1 Axes>"
      ]
     },
     "metadata": {
      "needs_background": "light"
     },
     "output_type": "display_data"
    }
   ],
   "source": [
    "# Visualization 4: Check the distribution of values in StatedMonthlyIncome column again \n",
    "# after setting the limits of x-axis to the left\n",
    "plt.hist(data = main_table, x = 'StatedMonthlyIncome', bins=1000);\n",
    "plt.xlim(0, limit)"
   ]
  },
  {
   "cell_type": "markdown",
   "metadata": {},
   "source": [
    "Observation #4: Using Three-Sigma Limit, the stated monthly income is still pretty skewed to the right. Mode (the most frequent value) is around 5000. "
   ]
  },
  {
   "cell_type": "markdown",
   "metadata": {},
   "source": [
    "### Discuss the distribution(s) of your variable(s) of interest. Were there any unusual points? Did you need to perform any transformations?\n",
    "\n",
    "> For loan status, most of the loans are current loans. For employment status, most of the borrowers are employed. For the monthly stated income, the most frequent value is around 5000, but the contribution is still unclear as it has many outliers that cause skew to the right, even after applying Three-Sigma Limit.\n",
    "\n",
    "\n",
    "### Of the features you investigated, were there any unusual distributions? Did you perform any operations on the data to tidy, adjust, or change the form of the data? If so, why did you do this?\n",
    "\n",
    "> The LoanStatus has too many current loans. While this project tends to investigate the features used to predict credit default chance, we just need these values of 'LoanStatus': Completed, Defaulted, and Chargedoff (this will be changed into Defaulted for the analysis' purpose). "
   ]
  },
  {
   "cell_type": "code",
   "execution_count": 16,
   "metadata": {},
   "outputs": [
    {
     "data": {
      "text/plain": [
       "Completed    19664\n",
       "Defaulted     6341\n",
       "Name: LoanStatus, dtype: int64"
      ]
     },
     "execution_count": 16,
     "metadata": {},
     "output_type": "execute_result"
    }
   ],
   "source": [
    "# Keep only 3 values of column LoanStatus\n",
    "condition = (main_table['LoanStatus'] == 'Completed') | (main_table['LoanStatus'] == 'Defaulted') |\\\n",
    "            (main_table['LoanStatus'] == 'Chargedoff')\n",
    "main_table = main_table[condition]\n",
    "\n",
    "# Set 'Chargedoff' to 'Defaulted'\n",
    "def set_to_defaulted(row):\n",
    "    if row['LoanStatus'] == 'Chargedoff':\n",
    "        return 'Defaulted'\n",
    "    else:\n",
    "        return row['LoanStatus']\n",
    "\n",
    "# Count the LoanStatus column after adjusting data\n",
    "main_table['LoanStatus'] = main_table.apply(set_to_defaulted, axis = 1)\n",
    "main_table['LoanStatus'].value_counts()"
   ]
  },
  {
   "cell_type": "markdown",
   "metadata": {},
   "source": [
    "## Bivariate Exploration\n",
    "\n",
    "> In this section, investigate relationships between pairs of variables in your\n",
    "data. Make sure the variables that you cover here have been introduced in some\n",
    "fashion in the previous section (univariate exploration)."
   ]
  },
  {
   "cell_type": "code",
   "execution_count": 17,
   "metadata": {},
   "outputs": [
    {
     "data": {
      "text/plain": [
       "<AxesSubplot:xlabel='LoanStatus', ylabel='count'>"
      ]
     },
     "execution_count": 17,
     "metadata": {},
     "output_type": "execute_result"
    },
    {
     "data": {
      "image/png": "[encoded data removed]",
      "text/plain": [
       "<Figure size 432x288 with 1 Axes>"
      ]
     },
     "metadata": {
      "needs_background": "light"
     },
     "output_type": "display_data"
    }
   ],
   "source": [
    "# Visualization 5: Display the distribution of values in ProsperRating column, categorized by 2 values of LoanStatus\n",
    "sb.countplot(data = main_table, x = 'LoanStatus', hue = 'ProsperRating (Alpha)',\n",
    "             hue_order = ['AA', 'A', 'B', 'C', 'D', 'E', 'HR'], palette = 'Blues')"
   ]
  },
  {
   "cell_type": "markdown",
   "metadata": {},
   "source": [
    "Observation #5: The most frequent rating in both completed and defaulted loans is D"
   ]
  },
  {
   "cell_type": "code",
   "execution_count": 18,
   "metadata": {},
   "outputs": [
    {
     "data": {
      "text/plain": [
       "1     12740\n",
       "7      4766\n",
       "2      2612\n",
       "3      2366\n",
       "6      1204\n",
       "13      597\n",
       "15      370\n",
       "5       274\n",
       "18      214\n",
       "19      198\n",
       "14      181\n",
       "20      171\n",
       "16       94\n",
       "11       63\n",
       "10       44\n",
       "8        40\n",
       "9        28\n",
       "12       19\n",
       "17       17\n",
       "0         7\n",
       "Name: ListingCategory (numeric), dtype: int64"
      ]
     },
     "execution_count": 18,
     "metadata": {},
     "output_type": "execute_result"
    }
   ],
   "source": [
    "# The next visualization 6 involves LoanStatus and ListingCategory. \n",
    "# Check all values of ListingCategory\n",
    "main_table['ListingCategory (numeric)'].value_counts()"
   ]
  },
  {
   "cell_type": "markdown",
   "metadata": {},
   "source": [
    "There are 2 problems of ListingCategory column: (1) All values are numeric and need to be converted into categorical for better understanding, (2) Too many values that make the viz become complicated, so some of them need to be removed. In this case, we just keep the values that have high frequency: 1, 2, 3, 6, and the rest will be put in the same category 7, as value 7 is 'Other'. "
   ]
  },
  {
   "cell_type": "code",
   "execution_count": 19,
   "metadata": {},
   "outputs": [
    {
     "data": {
      "text/plain": [
       "Debt Consolidation    12740\n",
       "Other                  7083\n",
       "Home Improvement       2612\n",
       "Business               2366\n",
       "Auto                   1204\n",
       "Name: ListingCategory (numeric), dtype: int64"
      ]
     },
     "execution_count": 19,
     "metadata": {},
     "output_type": "execute_result"
    }
   ],
   "source": [
    "# Turn categories with value 1,2,3,6 into categorical name, and put all other value into 7\n",
    "categories = {1: 'Debt Consolidation', 2: 'Home Improvement', 3: 'Business', 6: 'Auto', 7: 'Other'}\n",
    "def refine_categories(row):\n",
    "    list_category = row['ListingCategory (numeric)']\n",
    "    if list_category in categories:\n",
    "        return categories[list_category]\n",
    "    else:\n",
    "        return categories[7]\n",
    "main_table['ListingCategory (numeric)'] = main_table.apply(refine_categories, axis = 1)\n",
    "main_table['ListingCategory (numeric)'].value_counts()"
   ]
  },
  {
   "cell_type": "code",
   "execution_count": 20,
   "metadata": {},
   "outputs": [
    {
     "data": {
      "text/plain": [
       "<AxesSubplot:xlabel='LoanStatus', ylabel='count'>"
      ]
     },
     "execution_count": 20,
     "metadata": {},
     "output_type": "execute_result"
    },
    {
     "data": {
      "image/png": "[encoded data removed]",
      "text/plain": [
       "<Figure size 432x288 with 1 Axes>"
      ]
     },
     "metadata": {
      "needs_background": "light"
     },
     "output_type": "display_data"
    }
   ],
   "source": [
    "# Visualization 6: Display the distribution of values in ListingCategory column, categorized by 2 values of LoanStatus\n",
    "sb.countplot(data = main_table, x = 'LoanStatus', hue = 'ListingCategory (numeric)', palette = 'Blues')"
   ]
  },
  {
   "cell_type": "markdown",
   "metadata": {},
   "source": [
    "Observation #6: The Debt Consolidation is the most frequent value in ListingCategory column"
   ]
  },
  {
   "cell_type": "code",
   "execution_count": 21,
   "metadata": {},
   "outputs": [
    {
     "data": {
      "text/plain": [
       "<AxesSubplot:xlabel='ProsperRating (Alpha)', ylabel='count'>"
      ]
     },
     "execution_count": 21,
     "metadata": {},
     "output_type": "execute_result"
    },
    {
     "data": {
      "image/png": "[encoded data removed]",
      "text/plain": [
       "<Figure size 864x720 with 1 Axes>"
      ]
     },
     "metadata": {
      "needs_background": "light"
     },
     "output_type": "display_data"
    }
   ],
   "source": [
    "# Visualization 7: Display the distribution of values in EmploymentStatus, categorized by values of ProsperRating\n",
    "plt.figure(figsize = [12, 10])\n",
    "sb.countplot(data = main_table, x = 'ProsperRating (Alpha)', hue = 'EmploymentStatus', palette = 'Blues',\n",
    "            order = ['AA', 'A', 'B', 'C', 'D', 'E', 'HR'])"
   ]
  },
  {
   "cell_type": "markdown",
   "metadata": {},
   "source": [
    "Observation #7: For all rating scores, Employed is the largest group. The Not employed, Self-employed, Retired and Part-time groups have higher counts in rating HR, D, and E than high ratings. "
   ]
  },
  {
   "cell_type": "code",
   "execution_count": 22,
   "metadata": {},
   "outputs": [
    {
     "data": {
      "text/plain": [
       "<AxesSubplot:xlabel='LoanStatus', ylabel='LoanOriginalAmount'>"
      ]
     },
     "execution_count": 22,
     "metadata": {},
     "output_type": "execute_result"
    },
    {
     "data": {
      "image/png": "[encoded data removed]",
      "text/plain": [
       "<Figure size 432x288 with 1 Axes>"
      ]
     },
     "metadata": {
      "needs_background": "light"
     },
     "output_type": "display_data"
    }
   ],
   "source": [
    "# Visualization 8: Display the distribution of values in LoanOriginalAmount, categorized by 2 values of LoanStatus\n",
    "sb.boxplot(data = main_table, x = 'LoanStatus', y = 'LoanOriginalAmount', color = base_color)"
   ]
  },
  {
   "cell_type": "markdown",
   "metadata": {},
   "source": [
    "Observation #8: For defaulted loans, the loan original amount is smaller than completed loans. Most of the loans have the original amount of around 5000-8000$."
   ]
  },
  {
   "cell_type": "markdown",
   "metadata": {},
   "source": [
    "### Talk about some of the relationships you observed in this part of the investigation. How did the feature(s) of interest vary with other features in the dataset?\n",
    "\n",
    "> For completed loans, A ratings appear more frequently than other ratings (except D). The Employment Status of Not employed, Self-employed, Retired and Part-time have a lot more people receiving low ratings (D and E) than higher ratings. \n",
    "\n",
    "### Did you observe any interesting relationships between the other features (not the main feature(s) of interest)?\n",
    "\n",
    "> For completed loans, the listing category of home improvement appears more frequently than business; while for defaulted loans, home improvement appears less frequently than business."
   ]
  },
  {
   "cell_type": "markdown",
   "metadata": {},
   "source": [
    "## Multivariate Exploration\n",
    "\n",
    "> Create plots of three or more variables to investigate your data even\n",
    "further. Make sure that your investigations are justified, and follow from\n",
    "your work in the previous sections."
   ]
  },
  {
   "cell_type": "code",
   "execution_count": 23,
   "metadata": {
    "scrolled": false
   },
   "outputs": [
    {
     "data": {
      "text/plain": [
       "<seaborn.axisgrid.FacetGrid at 0x7f5a761d6d30>"
      ]
     },
     "execution_count": 23,
     "metadata": {},
     "output_type": "execute_result"
    },
    {
     "data": {
      "image/png": "[encoded data removed]",
      "text/plain": [
       "<Figure size 810.125x1080 with 5 Axes>"
      ]
     },
     "metadata": {
      "needs_background": "light"
     },
     "output_type": "display_data"
    }
   ],
   "source": [
    "# Visualization 9-13: Display the distribution of values in ProsperRating, categorized by LoanStatus (2 colors \n",
    "# of columns) and ListingCategory (5 tables)\n",
    "sb.catplot(data = main_table, x = 'ProsperRating (Alpha)', hue = 'LoanStatus', col = 'ListingCategory (numeric)',\n",
    "           order = ['AA', 'A', 'B', 'C', 'D', 'E', 'HR'], kind = 'count', palette = 'Blues', col_wrap = 2)"
   ]
  },
  {
   "cell_type": "markdown",
   "metadata": {},
   "source": [
    "Observation 9-13: D rating is the most frequent value in any listing categories. Defaulted loans appear more frequently in HR, D, and E ratings."
   ]
  },
  {
   "cell_type": "code",
   "execution_count": 24,
   "metadata": {},
   "outputs": [
    {
     "data": {
      "text/plain": [
       "<AxesSubplot:xlabel='ProsperRating (Alpha)', ylabel='LoanOriginalAmount'>"
      ]
     },
     "execution_count": 24,
     "metadata": {},
     "output_type": "execute_result"
    },
    {
     "data": {
      "image/png": "[encoded data removed]",
      "text/plain": [
       "<Figure size 720x576 with 1 Axes>"
      ]
     },
     "metadata": {
      "needs_background": "light"
     },
     "output_type": "display_data"
    }
   ],
   "source": [
    "# Visualization 14: Display the distribution of values in LoanOriginalAmount, categorized by LoanStatus (2 colors \n",
    "# of columns) and ProsperRating (x-axis)\n",
    "plt.figure(figsize = [10,8])\n",
    "sb.boxplot(data = main_table, x = 'ProsperRating (Alpha)', y = 'LoanOriginalAmount', hue = 'LoanStatus',\n",
    "          order = ['AA', 'A', 'B', 'C', 'D', 'E', 'HR'])"
   ]
  },
  {
   "cell_type": "markdown",
   "metadata": {},
   "source": [
    "Observation #14: All defaulted loans have the maximum loan original amount of 25000. While completed loans have higher range of loan amount, the defaulted loans have higher density in the range of 5000-15000$"
   ]
  },
  {
   "cell_type": "code",
   "execution_count": 25,
   "metadata": {},
   "outputs": [
    {
     "data": {
      "text/plain": [
       "(0.0, 30651.006023351034)"
      ]
     },
     "execution_count": 25,
     "metadata": {},
     "output_type": "execute_result"
    },
    {
     "data": {
      "image/png": "[encoded data removed]",
      "text/plain": [
       "<Figure size 720x576 with 1 Axes>"
      ]
     },
     "metadata": {
      "needs_background": "light"
     },
     "output_type": "display_data"
    }
   ],
   "source": [
    "# Visualization 15: Display the distribution of values in StatedMonthlyIncome, categorized by LoanStatus (2 colors \n",
    "# of columns) and ProsperRating (x-axis)\n",
    "plt.figure(figsize = [10,8])\n",
    "sb.boxplot(data = main_table, x = 'ProsperRating (Alpha)', y = 'StatedMonthlyIncome', hue = 'LoanStatus',\n",
    "          order = ['AA', 'A', 'B', 'C', 'D', 'E', 'HR'])\n",
    "plt.ylim(0, limit)"
   ]
  },
  {
   "cell_type": "markdown",
   "metadata": {},
   "source": [
    "Observation #15: The borrowers who have defaulted loans tend to have lower income than the ones who have completed loans"
   ]
  },
  {
   "cell_type": "markdown",
   "metadata": {},
   "source": [
    "### Talk about some of the relationships you observed in this part of the investigation. Were there features that strengthened each other in terms of looking at your feature(s) of interest?\n",
    "\n",
    "> The defaulted loans appear more frequently for borrowers with low ratings (HR, D, E). The borrowers with low ratings often have lower loan amount (less than 15000) than the ones with higher ratings (with a lot reach 25000)\n",
    "\n",
    "### Were there any interesting or surprising interactions between features?\n",
    "\n",
    "> In all listing categories, defaulted loans have smaller loan amount than completed ones."
   ]
  },
  {
   "cell_type": "markdown",
   "metadata": {},
   "source": [
    "## Conclusions\n",
    "> Since my features of interest are factors that affect default chance and Prosper ratings, some key findings are:\n",
    "- The listing category of Debt Consolidation appears most frequently in defaulted loans (visualization 6). I separate it into 2 LoanStatus, and both in defaulted and completed loans, the Debt Consolidation is always the highest count.\n",
    "- The borrowers that have low ratings are mostly Not employed, Self-employed, Retired, and Part-time (visualization 7).\n",
    "- Borrowers who have high income tend to complete their loans (visualization 15). In all ratings, borrowers with completed loans always have higher income than the ones with defaulted loans."
   ]
  }
 ],
 "metadata": {
  "kernelspec": {
   "display_name": "Python 3",
   "language": "python",
   "name": "python3"
  },
  "language_info": {
   "codemirror_mode": {
    "name": "ipython",
    "version": 3
   },
   "file_extension": ".py",
   "mimetype": "text/x-python",
   "name": "python",
   "nbconvert_exporter": "python",
   "pygments_lexer": "ipython3",
   "version": "3.6.3"
  }
 },
 "nbformat": 4,
 "nbformat_minor": 2
}
